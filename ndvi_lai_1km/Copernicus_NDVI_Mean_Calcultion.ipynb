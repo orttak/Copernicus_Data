{
 "cells": [
  {
   "cell_type": "code",
   "execution_count": 1,
   "metadata": {},
   "outputs": [],
   "source": [
    "import glob\n",
    "from osgeo import gdal, osr"
   ]
  },
  {
   "cell_type": "code",
   "execution_count": 2,
   "metadata": {},
   "outputs": [],
   "source": [
    "import os\n",
    "import numpy as np\n",
    "import dask.array as da\n",
    "import time\n"
   ]
  },
  {
   "cell_type": "code",
   "execution_count": 3,
   "metadata": {},
   "outputs": [],
   "source": [
    "def ListofExtensionAndName(directory,extension):\n",
    "     \n",
    "        if len(directory) != None:\n",
    "            import os\n",
    "            FilesList = []\n",
    "            FileName=[]\n",
    "            for root, subdirectory, files in os.walk(directory):\n",
    "                for file in files:\n",
    "                    if file.endswith(extension):\n",
    "                        FilesList.append(os.path.join(root,file))\n",
    "                        base=os.path.basename(file)\n",
    "                        FileName.append(os.path.splitext(base)[0])\n",
    "\n",
    "            return sorted(FilesList),sorted(FileName)\n",
    "        else:\n",
    "            print(\"no\"+ extension +\"file for this directory\")"
   ]
  },
  {
   "cell_type": "code",
   "execution_count": null,
   "metadata": {},
   "outputs": [],
   "source": []
  },
  {
   "cell_type": "code",
   "execution_count": 7,
   "metadata": {},
   "outputs": [
    {
     "data": {
      "text/plain": [
       "'../geoserver_data/2020_Cop_LAI/2000/'"
      ]
     },
     "execution_count": 7,
     "metadata": {},
     "output_type": "execute_result"
    }
   ],
   "source": [
    "folder_list=glob.glob('../geoserver_data/2020_NDVI/*/')\n",
    "folder_list[0]"
   ]
  },
  {
   "cell_type": "code",
   "execution_count": 4,
   "metadata": {},
   "outputs": [],
   "source": [
    "folder_list2=['../data/cop_ndvi/2005/','../data/cop_ndvi/2019/']"
   ]
  },
  {
   "cell_type": "code",
   "execution_count": null,
   "metadata": {},
   "outputs": [],
   "source": [
    "# You should give list of nc files' path like folder_list2 or folder_list"
   ]
  },
  {
   "cell_type": "code",
   "execution_count": null,
   "metadata": {},
   "outputs": [],
   "source": [
    "%%time\n",
    "for folder in folder_list2:\n",
    "    image_status=False\n",
    "    counter=0\n",
    "    while image_status is False:\n",
    "        try:\n",
    "            nc_files=ListofExtensionAndName(folder,'.nc')\n",
    "            folder_name=folder.split('/')[-2]\n",
    "            output_folder='../data/cop_ndvi/mean_tif/'\n",
    "            array_list=[]\n",
    "            for index,img in enumerate(nc_files[0]):\n",
    "                # with this block, we read 36 .nc file' ndvi value\n",
    "                # with dask array\n",
    "                netcdf_name=img\n",
    "                # if you work with LAI change the variable\n",
    "                #layer_name='LAI'\n",
    "                layer_name='NDVI'\n",
    "                ds = gdal.Open(\"NETCDF:{0}:{1}\".format(netcdf_name, layer_name))\n",
    "                array=ds.ReadAsArray()\n",
    "                dask_array=da.from_array(array,chunks=len(array) // 4)\n",
    "                array_list.append(dask_array)\n",
    "             \n",
    "            \n",
    "            stack = da.stack(array_list, axis=0)\n",
    "            mean_array=stack.mean(axis=0).compute()\n",
    "            s_srs = ds.GetProjectionRef()    \n",
    "            osng = osr.SpatialReference ()\n",
    "            \n",
    "            osng.SetFromUserInput ( s_srs )    \n",
    "            geo_t = ds.GetGeoTransform ()    \n",
    "            x_size = ds.RasterXSize # Raster xsize\n",
    "            y_size = ds.RasterYSize # Raster ysize\n",
    "            mem_drv = gdal.GetDriverByName( 'MEM')\n",
    "            dest = mem_drv.Create('', x_size,y_size, 1)\n",
    "            dest.SetGeoTransform( geo_t )\n",
    "            dest.SetProjection( osng.ExportToWkt())\n",
    "            dest.GetRasterBand(1).WriteArray(mean_array)\n",
    "            output_mean_path=output_folder+'c_gls_NDVI_Mean_'+folder_name+'.tif'            \n",
    "            gdal.Warp(output_mean_path, dest, format = 'GTiff')\n",
    "            print(output_mean_path)\n",
    "            mean_array=None\n",
    "            dest=None\n",
    "            ds=None\n",
    "            mem_drv=None\n",
    "            image_status=True\n",
    "        except:\n",
    "            print('except')\n",
    "            image_status=False\n",
    "            counter+=1\n",
    "            if counter==10:\n",
    "                print(folder + 'couldnt be calculated')\n",
    "                break\n",
    "            continue"
   ]
  },
  {
   "cell_type": "code",
   "execution_count": null,
   "metadata": {},
   "outputs": [],
   "source": []
  },
  {
   "cell_type": "code",
   "execution_count": null,
   "metadata": {},
   "outputs": [],
   "source": []
  },
  {
   "cell_type": "code",
   "execution_count": null,
   "metadata": {},
   "outputs": [],
   "source": []
  }
 ],
 "metadata": {
  "kernelspec": {
   "display_name": "Python 3",
   "language": "python",
   "name": "python3"
  },
  "language_info": {
   "codemirror_mode": {
    "name": "ipython",
    "version": 3
   },
   "file_extension": ".py",
   "mimetype": "text/x-python",
   "name": "python",
   "nbconvert_exporter": "python",
   "pygments_lexer": "ipython3",
   "version": "3.6.9"
  }
 },
 "nbformat": 4,
 "nbformat_minor": 4
}
